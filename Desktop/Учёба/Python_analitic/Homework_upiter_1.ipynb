{
 "cells": [
  {
   "cell_type": "markdown",
   "id": "a0dd9d04",
   "metadata": {},
   "source": [
    "# Task_1"
   ]
  },
  {
   "cell_type": "markdown",
   "id": "5d5b2b34",
   "metadata": {},
   "source": [
    "*На складе лежат разные фрукты в разном количестве.Нужно написать функцию, которая на вход принимает любое количество названий фруктов и их количество, а возвращает общее количество фруктов на складе*"
   ]
  },
  {
   "cell_type": "code",
   "execution_count": 20,
   "id": "1741de98",
   "metadata": {},
   "outputs": [],
   "source": [
    "def number_of_fruits(**kwargs):\n",
    "    for name,value in kwargs.items():\n",
    "        print (f'Fruit {name} quantity  {value} pcs')\n",
    "    return print(f'Total number of fruits = {sum(kwargs.values())} pcs')"
   ]
  },
  {
   "cell_type": "code",
   "execution_count": 21,
   "id": "b4b7d49e",
   "metadata": {},
   "outputs": [
    {
     "name": "stdout",
     "output_type": "stream",
     "text": [
      "Fruit apple quantity  23 pcs\n",
      "Fruit banana quantity  15 pcs\n",
      "Fruit plum quantity  5 pcs\n",
      "Fruit peach quantity  16 pcs\n",
      "Fruit apricot quantity  22 pcs\n",
      "Total number of fruits = 81 pcs\n"
     ]
    }
   ],
   "source": [
    "number_of_fruits(apple = 23,\n",
    "    banana = 15,\n",
    "plum = 5,\n",
    "peach=16,\n",
    "apricot=22\n",
    ")"
   ]
  },
  {
   "cell_type": "markdown",
   "id": "94d1b019",
   "metadata": {},
   "source": [
    "## Task_2"
   ]
  },
  {
   "cell_type": "markdown",
   "id": "cabdc8bc",
   "metadata": {},
   "source": [
    "*Дан список с затратами на рекламу. Но в данных есть ошибки, некоторые затраты имеют отрицательную величину. Удалите такие значения из списка и посчитайте суммарные затраты\n",
    "[100, 125, -90, 345, 655, -1, 0, 200]\n",
    "Используйте list comprehensions*"
   ]
  },
  {
   "cell_type": "code",
   "execution_count": 26,
   "id": "e049fd65",
   "metadata": {},
   "outputs": [
    {
     "name": "stdout",
     "output_type": "stream",
     "text": [
      " The total costs are equal to :1425\n"
     ]
    }
   ],
   "source": [
    "advertising_costs=[100, 125, -90, 345, 655, -1, 0, 200]\n",
    "correct_costs=[i for i in advertising_costs if i>0]\n",
    "print(f' The total costs are equal to :{sum(correct_costs)}')"
   ]
  },
  {
   "cell_type": "markdown",
   "id": "922fd508",
   "metadata": {},
   "source": [
    "## Task_3"
   ]
  },
  {
   "cell_type": "markdown",
   "id": "14241b7b",
   "metadata": {},
   "source": [
    "*Даны два списка: Дата покупки и Суммы покупок по датам.*"
   ]
  },
  {
   "cell_type": "code",
   "execution_count": 32,
   "id": "0b05a162",
   "metadata": {},
   "outputs": [],
   "source": [
    "list_date=['2021-09-14', '2021-12-15', '2021-09-08', '2021-12-05',\n",
    "           '2021-10-09', '2021-09-30', '2021-12-22', '2021-11-29',\n",
    "           '2021-12-24', '2021-11-26', '2021-10-27', '2021-12-18',\n",
    "           '2021-11-09', '2021-11-23', '2021-09-27', '2021-10-02',\n",
    "           '2021-12-27', '2021-09-20', '2021-12-13', '2021-11-01',\n",
    "           '2021-11-09', '2021-12-06', '2021-12-08', '2021-10-09',\n",
    "           '2021-10-31', '2021-09-30', '2021-11-09', '2021-12-13',\n",
    "           '2021-10-26', '2021-12-09']\n",
    "purchase_amounts=[1270, 8413, 9028, 3703, 5739, 4095, 295, 4944, \n",
    "                  5723, 3701, 4471, 651, 7037, 4274, 6275, 4988,\n",
    "                  6930, 2971, 6592, 2004, 2822, 519, 3406, 2732, \n",
    "                  5015, 2008, 316, 6333, 5700, 2887]"
   ]
  },
  {
   "cell_type": "markdown",
   "id": "15db7b56",
   "metadata": {},
   "source": [
    "### Task_3.1\n",
    "*Найдите, какая выручка у компании в ноябре\n",
    "Используйте list comprehensions*"
   ]
  },
  {
   "cell_type": "code",
   "execution_count": 90,
   "id": "93973902",
   "metadata": {},
   "outputs": [
    {
     "name": "stdout",
     "output_type": "stream",
     "text": [
      "[4944, 3701, 7037, 4274, 2004, 2822, 316]\n",
      "Выручка компании в ноябре составила 25098\n"
     ]
    }
   ],
   "source": [
    "list_Month = [i.split('-')[1] for i in list_date]\n",
    "sales=0\n",
    "list_sales_by_month={list_Month[i]:sales+purchase_amounts[i] for i in range(len(list_Month))}\n",
    "# print(list_Month)\n",
    "november_Revenue = [purchase_amounts[j]\n",
    "                          for i in range(len(list_Month))\n",
    "                          for j in range(len(purchase_amounts))\n",
    "                          if i == j and list_Month[i] == '11']\n",
    "print(november_Revenue)\n",
    "sum=0\n",
    "for i in november_Revenue:\n",
    "    sum+=i\n",
    "print(f'Выручка компании в ноябре составила {sum}')\n",
    "    "
   ]
  },
  {
   "cell_type": "markdown",
   "id": "c9fddc59",
   "metadata": {},
   "source": [
    "### Task_3.2\n",
    "*Найдите выручку компании в зависимости от месяца.\n",
    "Для этого напишите функцию, которая на вход принимает список с датами и список с выручкой, а на выходе словарь, где ключи - это месяцы, а значения - это выручка.\n",
    "Используйте аннотирование типов.*"
   ]
  },
  {
   "cell_type": "code",
   "execution_count": 97,
   "id": "c25e1613",
   "metadata": {},
   "outputs": [],
   "source": [
    "def revenue_by_month(list_date:list,list_revenue:list)->dict:\n",
    "    list_Month = [i.split('-')[1] for i in list_date]\n",
    "    dict_Month = {}\n",
    "    for i in range(len(list_Month)):\n",
    "        if list_Month[i] in dict_Month.keys():\n",
    "            dict_Month[list_Month[i]] += list_revenue[i]\n",
    "        else:\n",
    "            dict_Month[list_Month[i]] = list_revenue[i]\n",
    "    return dict_Month"
   ]
  },
  {
   "cell_type": "code",
   "execution_count": 96,
   "id": "4dfc6654",
   "metadata": {},
   "outputs": [
    {
     "data": {
      "text/plain": [
       "{'09': 25647, '12': 45452, '10': 28645, '11': 25098}"
      ]
     },
     "execution_count": 96,
     "metadata": {},
     "output_type": "execute_result"
    }
   ],
   "source": [
    "revenue_by_month(list_date,purchase_amounts)"
   ]
  },
  {
   "cell_type": "code",
   "execution_count": null,
   "id": "083a539f",
   "metadata": {},
   "outputs": [],
   "source": []
  }
 ],
 "metadata": {
  "kernelspec": {
   "display_name": "Python 3 (ipykernel)",
   "language": "python",
   "name": "python3"
  },
  "language_info": {
   "codemirror_mode": {
    "name": "ipython",
    "version": 3
   },
   "file_extension": ".py",
   "mimetype": "text/x-python",
   "name": "python",
   "nbconvert_exporter": "python",
   "pygments_lexer": "ipython3",
   "version": "3.9.13"
  }
 },
 "nbformat": 4,
 "nbformat_minor": 5
}
